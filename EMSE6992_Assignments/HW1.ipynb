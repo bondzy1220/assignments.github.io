{
 "cells": [
  {
   "cell_type": "markdown",
   "metadata": {},
   "source": [
    "# Homework 1\n",
    "\n",
    "### Due by 11:59pm on 5 October ( submit within Portfolio )\n",
    "\n",
    "For each instruction, show your code and execution within the Jupyter Notebook.\n",
    "\n",
    "## 1. Description of the dataset\n",
    "Give a brief description of your dataset. Data from reported fatal car accidents in 2013\n",
    "\n",
    "Number of rows? 30358\n",
    "\n",
    "Number of variables? 1,608,974\n",
    "\n",
    "## 2. Loading and Cleaning\n",
    "Load the your dataset into a pandas dataframe and have a look at the first 15 rows.\n",
    "\n",
    "Create a column called \"class\" and randomly add a \"1\", \"2\", or \"3\" for every row.\n",
    "\n",
    "e.g.\n",
    "\n",
    "featueA | Class\n",
    "--- | ---\n",
    "9 | 1\n",
    "5 | 2\n",
    "7 | 3\n",
    "6 | 2\n",
    "3 | 1\n",
    "6 | 3\n",
    "\n",
    "Show names of all columns and rename columns as necesary\n",
    "\n",
    "Show unique attributes for a given features that are stored in the dataset\n",
    "\n",
    "e.g. featureA [1 2 3]\n",
    "\n",
    "Create a crosstabulation or contingency table\n",
    "\n",
    "Get rid of the junk numbering\n",
    "\n",
    "Create a new dataframe dfsub by taking the list of one column (feature) and using pandas. Apply function to divide all values by 100.\n",
    "\n",
    "## 2. Quick Intro to Matplotlib\n",
    "Create a plot that shows two columns (features) plotted against each other (e.g. A vs. B)\n",
    "Create a histogram of the dataset using a selected column (feature)\n",
    "\n",
    "Use a more object oriented approach by using the subplots function to set both figure and axis.\n",
    "\n",
    "Make scatterplots of a selected column \"featureA\" in the list yfeatureA against the featureA in the list xfeatureA. As the names suggest, plot featureA in yfeatureA along the y featureA and the acids in xfeatureA along the x axis. Label the axes with the respective feature name. Set it up as a grid with 3 rows and 2 columns.\n",
    "\n",
    "The first concept we deal with here is pandas groupby. Group your dataframe dfsub by the values of a particular factor variable.\n",
    "\n",
    "The groupby function also acts like an object that can be mapped. After the mapping is complete, the rows are put together (reduced) into a larger dataframe. Apply the describe function.\n",
    "\n",
    "One may iterate through the groupby 'dictionary'is to get the pandas series from each sub-dataframe, and compute the standard deviation. Apply the std function\n",
    "\n",
    "Pandas can do general merges. When we do that along an index, it's called a join. Apply to join to two selected columns.\n",
    "\n",
    "Let's weight the a selected feature content by a random weight. Extract a subset of columns from df and then write a function to weigh the features content by this random weight, delivering a weighted feature mean in the final dataframe.\n",
    "\n",
    "\n",
    "## 3. One Dimensional Exploratory Data Analysis (EDA) with Pandas\n",
    "\n",
    "Create a dataframe with just one column or feature.\n",
    "\n",
    "Make a bar plot of the relative mean percentages\n",
    "\n",
    "The aforementioned graph get's proportions of all the a selected feature for a specific class. From this, we can ask the opposite question: What's the distribution classes within that column/feature?\n",
    "\n",
    "Write code to scatterplot a column/reature against another features color coded by the classes in that feature.\n",
    "\n",
    "Could a linear or nonlinear classifier separate the the classes (1 from 2 or 2 from 3 or 1 from 3)?\n",
    "\n",
    "Write code to scatterplot a column/feature against a different set of features color coded by the classes in that feature. Select features that this has not been done for.\n",
    "\n",
    "Apply a linear or nonlinear classifier to the scatter plot and color code the classes.\n",
    "\n",
    "## 4. Miscellaneous Pandas Plotting tools: scatters, boxplots, and parallel co-ordinates\n",
    "\n",
    "Write code that will allow you to plot marginals using rug plots and histograms of your dataset\n",
    "\n",
    "Write code that will allow you to show the probability distributions of your dataset\n",
    "\n",
    "Write code that will allow you to show parallel coordinates using your dataset\n",
    "\n",
    "## 5. Portfolio: Pandas Data Manipulation and Plotting tools\n",
    "\n",
    "Add examples of Pandas using data manipulation and plotting techniques against your dataset in the ToolKit section of your Portfolio. "
   ]
  },
  {
   "cell_type": "code",
   "execution_count": null,
   "metadata": {
    "collapsed": true
   },
   "outputs": [],
   "source": [
    "\n",
    "#Give a brief description of your dataset. \n",
    "#Data from reported fatal car accidents in 2013\n",
    "#Number of rows? 30358\n",
    "Number of variables? 360696"
   ]
  },
  {
   "cell_type": "code",
   "execution_count": 3,
   "metadata": {},
   "outputs": [],
   "source": [
    "!pip install beautifulsoup4\n",
    "!pip install seaborn \n",
    "!pip install pyquery\n",
    "!pip install mrjob \n",
    "!pip install Pattern3\n",
    "!pip install brewer2mpl\n",
    "\n",
    "import numpy as np\n",
    "import matplotlib.pyplot as plt\n",
    "import pandas as pd\n",
    "import jupyter\n",
    "import scipy as sp\n",
    "import sklearn\n",
    "import requests\n",
    "import networkx as nx\n",
    "import mrjob\n",
    "import bs4\n"
   ]
  },
  {
   "cell_type": "code",
   "execution_count": 8,
   "metadata": {},
   "outputs": [
    {
     "data": {
      "text/html": [
       "<div>\n",
       "<style>\n",
       "    .dataframe thead tr:only-child th {\n",
       "        text-align: right;\n",
       "    }\n",
       "\n",
       "    .dataframe thead th {\n",
       "        text-align: left;\n",
       "    }\n",
       "\n",
       "    .dataframe tbody tr th {\n",
       "        vertical-align: top;\n",
       "    }\n",
       "</style>\n",
       "<table border=\"1\" class=\"dataframe\">\n",
       "  <thead>\n",
       "    <tr style=\"text-align: right;\">\n",
       "      <th></th>\n",
       "      <th>STATE</th>\n",
       "      <th>VE_TOTAL</th>\n",
       "      <th>PEDS</th>\n",
       "      <th>PERSONS</th>\n",
       "      <th>COUNTY</th>\n",
       "      <th>MONTH</th>\n",
       "      <th>DAY_WEEK</th>\n",
       "      <th>TWAY_ID</th>\n",
       "      <th>SCH_BUS</th>\n",
       "      <th>RAIL</th>\n",
       "      <th>FATALS</th>\n",
       "      <th>DRUNK_DR</th>\n",
       "    </tr>\n",
       "  </thead>\n",
       "  <tbody>\n",
       "    <tr>\n",
       "      <th>0</th>\n",
       "      <td>1</td>\n",
       "      <td>1</td>\n",
       "      <td>0</td>\n",
       "      <td>8</td>\n",
       "      <td>115</td>\n",
       "      <td>1</td>\n",
       "      <td>1</td>\n",
       "      <td>I-59</td>\n",
       "      <td>0</td>\n",
       "      <td>0</td>\n",
       "      <td>2</td>\n",
       "      <td>0</td>\n",
       "    </tr>\n",
       "    <tr>\n",
       "      <th>1</th>\n",
       "      <td>1</td>\n",
       "      <td>2</td>\n",
       "      <td>0</td>\n",
       "      <td>2</td>\n",
       "      <td>55</td>\n",
       "      <td>1</td>\n",
       "      <td>5</td>\n",
       "      <td>US-SR 74</td>\n",
       "      <td>0</td>\n",
       "      <td>0</td>\n",
       "      <td>1</td>\n",
       "      <td>0</td>\n",
       "    </tr>\n",
       "    <tr>\n",
       "      <th>2</th>\n",
       "      <td>1</td>\n",
       "      <td>1</td>\n",
       "      <td>0</td>\n",
       "      <td>1</td>\n",
       "      <td>89</td>\n",
       "      <td>1</td>\n",
       "      <td>1</td>\n",
       "      <td>OAKWOOD AVE</td>\n",
       "      <td>0</td>\n",
       "      <td>0</td>\n",
       "      <td>1</td>\n",
       "      <td>0</td>\n",
       "    </tr>\n",
       "    <tr>\n",
       "      <th>3</th>\n",
       "      <td>1</td>\n",
       "      <td>1</td>\n",
       "      <td>0</td>\n",
       "      <td>3</td>\n",
       "      <td>73</td>\n",
       "      <td>1</td>\n",
       "      <td>1</td>\n",
       "      <td>JEFFERSON AVE SW</td>\n",
       "      <td>0</td>\n",
       "      <td>0</td>\n",
       "      <td>2</td>\n",
       "      <td>0</td>\n",
       "    </tr>\n",
       "    <tr>\n",
       "      <th>4</th>\n",
       "      <td>1</td>\n",
       "      <td>2</td>\n",
       "      <td>0</td>\n",
       "      <td>3</td>\n",
       "      <td>125</td>\n",
       "      <td>1</td>\n",
       "      <td>1</td>\n",
       "      <td>I-359</td>\n",
       "      <td>0</td>\n",
       "      <td>0</td>\n",
       "      <td>1</td>\n",
       "      <td>0</td>\n",
       "    </tr>\n",
       "    <tr>\n",
       "      <th>5</th>\n",
       "      <td>1</td>\n",
       "      <td>2</td>\n",
       "      <td>0</td>\n",
       "      <td>3</td>\n",
       "      <td>97</td>\n",
       "      <td>1</td>\n",
       "      <td>3</td>\n",
       "      <td>GOVERNMENT ST</td>\n",
       "      <td>0</td>\n",
       "      <td>0</td>\n",
       "      <td>1</td>\n",
       "      <td>0</td>\n",
       "    </tr>\n",
       "    <tr>\n",
       "      <th>6</th>\n",
       "      <td>1</td>\n",
       "      <td>1</td>\n",
       "      <td>0</td>\n",
       "      <td>1</td>\n",
       "      <td>95</td>\n",
       "      <td>1</td>\n",
       "      <td>6</td>\n",
       "      <td>SR-205</td>\n",
       "      <td>0</td>\n",
       "      <td>0</td>\n",
       "      <td>1</td>\n",
       "      <td>0</td>\n",
       "    </tr>\n",
       "    <tr>\n",
       "      <th>7</th>\n",
       "      <td>1</td>\n",
       "      <td>2</td>\n",
       "      <td>0</td>\n",
       "      <td>2</td>\n",
       "      <td>49</td>\n",
       "      <td>1</td>\n",
       "      <td>2</td>\n",
       "      <td>SR-75</td>\n",
       "      <td>0</td>\n",
       "      <td>0</td>\n",
       "      <td>1</td>\n",
       "      <td>0</td>\n",
       "    </tr>\n",
       "    <tr>\n",
       "      <th>8</th>\n",
       "      <td>1</td>\n",
       "      <td>1</td>\n",
       "      <td>0</td>\n",
       "      <td>1</td>\n",
       "      <td>17</td>\n",
       "      <td>1</td>\n",
       "      <td>7</td>\n",
       "      <td>CR-267</td>\n",
       "      <td>0</td>\n",
       "      <td>0</td>\n",
       "      <td>1</td>\n",
       "      <td>1</td>\n",
       "    </tr>\n",
       "    <tr>\n",
       "      <th>9</th>\n",
       "      <td>1</td>\n",
       "      <td>2</td>\n",
       "      <td>0</td>\n",
       "      <td>4</td>\n",
       "      <td>51</td>\n",
       "      <td>1</td>\n",
       "      <td>7</td>\n",
       "      <td>SR-14</td>\n",
       "      <td>0</td>\n",
       "      <td>0</td>\n",
       "      <td>1</td>\n",
       "      <td>0</td>\n",
       "    </tr>\n",
       "    <tr>\n",
       "      <th>10</th>\n",
       "      <td>1</td>\n",
       "      <td>2</td>\n",
       "      <td>0</td>\n",
       "      <td>3</td>\n",
       "      <td>1</td>\n",
       "      <td>1</td>\n",
       "      <td>7</td>\n",
       "      <td>US-SR 31</td>\n",
       "      <td>0</td>\n",
       "      <td>0</td>\n",
       "      <td>1</td>\n",
       "      <td>1</td>\n",
       "    </tr>\n",
       "    <tr>\n",
       "      <th>11</th>\n",
       "      <td>1</td>\n",
       "      <td>1</td>\n",
       "      <td>1</td>\n",
       "      <td>1</td>\n",
       "      <td>9</td>\n",
       "      <td>1</td>\n",
       "      <td>2</td>\n",
       "      <td>US-SR 53</td>\n",
       "      <td>0</td>\n",
       "      <td>0</td>\n",
       "      <td>1</td>\n",
       "      <td>0</td>\n",
       "    </tr>\n",
       "    <tr>\n",
       "      <th>12</th>\n",
       "      <td>1</td>\n",
       "      <td>1</td>\n",
       "      <td>0</td>\n",
       "      <td>2</td>\n",
       "      <td>43</td>\n",
       "      <td>1</td>\n",
       "      <td>2</td>\n",
       "      <td>I-65</td>\n",
       "      <td>0</td>\n",
       "      <td>0</td>\n",
       "      <td>1</td>\n",
       "      <td>0</td>\n",
       "    </tr>\n",
       "    <tr>\n",
       "      <th>13</th>\n",
       "      <td>1</td>\n",
       "      <td>1</td>\n",
       "      <td>0</td>\n",
       "      <td>1</td>\n",
       "      <td>95</td>\n",
       "      <td>1</td>\n",
       "      <td>2</td>\n",
       "      <td>CR-UNION CHAPEL ROAD</td>\n",
       "      <td>0</td>\n",
       "      <td>0</td>\n",
       "      <td>1</td>\n",
       "      <td>0</td>\n",
       "    </tr>\n",
       "    <tr>\n",
       "      <th>14</th>\n",
       "      <td>1</td>\n",
       "      <td>1</td>\n",
       "      <td>0</td>\n",
       "      <td>1</td>\n",
       "      <td>115</td>\n",
       "      <td>1</td>\n",
       "      <td>4</td>\n",
       "      <td>US-SR 25</td>\n",
       "      <td>0</td>\n",
       "      <td>0</td>\n",
       "      <td>1</td>\n",
       "      <td>1</td>\n",
       "    </tr>\n",
       "  </tbody>\n",
       "</table>\n",
       "</div>"
      ],
      "text/plain": [
       "    STATE  VE_TOTAL  PEDS  PERSONS  COUNTY  MONTH  DAY_WEEK  \\\n",
       "0       1         1     0        8     115      1         1   \n",
       "1       1         2     0        2      55      1         5   \n",
       "2       1         1     0        1      89      1         1   \n",
       "3       1         1     0        3      73      1         1   \n",
       "4       1         2     0        3     125      1         1   \n",
       "5       1         2     0        3      97      1         3   \n",
       "6       1         1     0        1      95      1         6   \n",
       "7       1         2     0        2      49      1         2   \n",
       "8       1         1     0        1      17      1         7   \n",
       "9       1         2     0        4      51      1         7   \n",
       "10      1         2     0        3       1      1         7   \n",
       "11      1         1     1        1       9      1         2   \n",
       "12      1         1     0        2      43      1         2   \n",
       "13      1         1     0        1      95      1         2   \n",
       "14      1         1     0        1     115      1         4   \n",
       "\n",
       "                 TWAY_ID  SCH_BUS RAIL  FATALS  DRUNK_DR  \n",
       "0                   I-59        0    0       2         0  \n",
       "1               US-SR 74        0    0       1         0  \n",
       "2            OAKWOOD AVE        0    0       1         0  \n",
       "3       JEFFERSON AVE SW        0    0       2         0  \n",
       "4                  I-359        0    0       1         0  \n",
       "5          GOVERNMENT ST        0    0       1         0  \n",
       "6                 SR-205        0    0       1         0  \n",
       "7                  SR-75        0    0       1         0  \n",
       "8                 CR-267        0    0       1         1  \n",
       "9                  SR-14        0    0       1         0  \n",
       "10              US-SR 31        0    0       1         1  \n",
       "11              US-SR 53        0    0       1         0  \n",
       "12                  I-65        0    0       1         0  \n",
       "13  CR-UNION CHAPEL ROAD        0    0       1         0  \n",
       "14              US-SR 25        0    0       1         1  "
      ]
     },
     "execution_count": 8,
     "metadata": {},
     "output_type": "execute_result"
    }
   ],
   "source": [
    "#Load the your dataset into a pandas dataframe and have a look at the first 15 rows.\n",
    "df=pd.read_csv(\"data/Fatal_Motor_Vehicle_Accidents.csv\")\n",
    "df.head(15)"
   ]
  },
  {
   "cell_type": "code",
   "execution_count": null,
   "metadata": {
    "collapsed": true
   },
   "outputs": [],
   "source": [
    "#Create a column called \"class\" and randomly add a \"1\", \"2\", or \"3\" for every row."
   ]
  },
  {
   "cell_type": "code",
   "execution_count": null,
   "metadata": {
    "collapsed": true
   },
   "outputs": [],
   "source": [
    "#Show names of all columns and rename columns as necesary"
   ]
  },
  {
   "cell_type": "code",
   "execution_count": null,
   "metadata": {
    "collapsed": true
   },
   "outputs": [],
   "source": [
    "#Show unique attributes for a given features that are stored in the dataset"
   ]
  },
  {
   "cell_type": "code",
   "execution_count": null,
   "metadata": {
    "collapsed": true
   },
   "outputs": [],
   "source": [
    "#Create a crosstabulation or contingency table\n"
   ]
  },
  {
   "cell_type": "code",
   "execution_count": null,
   "metadata": {
    "collapsed": true
   },
   "outputs": [],
   "source": [
    "#Get rid of the junk numbering"
   ]
  },
  {
   "cell_type": "code",
   "execution_count": null,
   "metadata": {
    "collapsed": true
   },
   "outputs": [],
   "source": [
    "#Create a new dataframe dfsub by taking the list of one column (feature) and using pandas. \n",
    "#Apply function to divide all values by 100"
   ]
  },
  {
   "cell_type": "code",
   "execution_count": null,
   "metadata": {
    "collapsed": true
   },
   "outputs": [],
   "source": [
    "#Create a plot that shows two columns (features) plotted against each other (e.g. A vs. B)\n",
    "#Create a histogram of the dataset using a selected column (feature)\n"
   ]
  },
  {
   "cell_type": "code",
   "execution_count": null,
   "metadata": {
    "collapsed": true
   },
   "outputs": [],
   "source": [
    "#Use a more object oriented approach by using the subplots function to set both figure and axis.\n"
   ]
  },
  {
   "cell_type": "code",
   "execution_count": null,
   "metadata": {
    "collapsed": true
   },
   "outputs": [],
   "source": [
    "#Make scatterplots of a selected column \"featureA\" in the list yfeatureA against the featureA in the list xfeatureA. \n",
    "#As the names suggest, plot featureA in yfeatureA along the y featureA and the acids in xfeatureA along the x axis. \n",
    "#Label the axes with the respective feature name. Set it up as a grid with 3 rows and 2 columns.\n"
   ]
  },
  {
   "cell_type": "code",
   "execution_count": null,
   "metadata": {
    "collapsed": true
   },
   "outputs": [],
   "source": [
    "#The first concept we deal with here is pandas groupby. Group your dataframe dfsub by the values of a particular factor variable.\n"
   ]
  },
  {
   "cell_type": "code",
   "execution_count": null,
   "metadata": {
    "collapsed": true
   },
   "outputs": [],
   "source": [
    "#The groupby function also acts like an object that can be mapped. \n",
    "#After the mapping is complete, the rows are put together (reduced) into a larger dataframe. Apply the describe function.\n"
   ]
  },
  {
   "cell_type": "code",
   "execution_count": null,
   "metadata": {
    "collapsed": true
   },
   "outputs": [],
   "source": [
    "#One may iterate through the groupby 'dictionary'is to get the pandas series from each sub-dataframe, \n",
    "#and compute the standard deviation. \n",
    "#Apply the std function\n"
   ]
  },
  {
   "cell_type": "code",
   "execution_count": null,
   "metadata": {
    "collapsed": true
   },
   "outputs": [],
   "source": [
    "#Pandas can do general merges. When we do that along an index, it's called a join. Apply to join to two selected columns.\n"
   ]
  },
  {
   "cell_type": "code",
   "execution_count": null,
   "metadata": {
    "collapsed": true
   },
   "outputs": [],
   "source": [
    "#Let's weight the a selected feature content by a random weight. \n",
    "#Extract a subset of columns from df and then write a function to weigh the features content by this random weight, \n",
    "#delivering a weighted feature mean in the final dataframe."
   ]
  },
  {
   "cell_type": "code",
   "execution_count": null,
   "metadata": {
    "collapsed": true
   },
   "outputs": [],
   "source": [
    "#Create a dataframe with just one column or feature.\n"
   ]
  },
  {
   "cell_type": "code",
   "execution_count": null,
   "metadata": {
    "collapsed": true
   },
   "outputs": [],
   "source": [
    "#Make a bar plot of the relative mean percentages\n",
    "."
   ]
  },
  {
   "cell_type": "code",
   "execution_count": null,
   "metadata": {
    "collapsed": true
   },
   "outputs": [],
   "source": [
    "#The aforementioned graph get's proportions of all the a selected feature for a specific class. \n",
    "#From this, we can ask the opposite question: What's the distribution classes within that column/feature?\n"
   ]
  },
  {
   "cell_type": "code",
   "execution_count": null,
   "metadata": {
    "collapsed": true
   },
   "outputs": [],
   "source": [
    "#Write code to scatterplot a column/reature against another features color coded by the classes in that feature.\n",
    "#Could a linear or nonlinear classifier separate the the classes (1 from 2 or 2 from 3 or 1 from 3)?\n"
   ]
  },
  {
   "cell_type": "code",
   "execution_count": null,
   "metadata": {
    "collapsed": true
   },
   "outputs": [],
   "source": [
    "#Write code to scatterplot a column/feature against a different set of features color coded by the classes in that feature. \n",
    "#Select features that this has not been done for.\n"
   ]
  },
  {
   "cell_type": "code",
   "execution_count": null,
   "metadata": {
    "collapsed": true
   },
   "outputs": [],
   "source": [
    "#Apply a linear or nonlinear classifier to the scatter plot and color code the classes"
   ]
  },
  {
   "cell_type": "code",
   "execution_count": null,
   "metadata": {
    "collapsed": true
   },
   "outputs": [],
   "source": [
    "#Write code that will allow you to plot marginals using rug plots and histograms of your dataset\n"
   ]
  },
  {
   "cell_type": "code",
   "execution_count": null,
   "metadata": {
    "collapsed": true
   },
   "outputs": [],
   "source": [
    "#Write code that will allow you to show the probability distributions of your dataset\n"
   ]
  },
  {
   "cell_type": "code",
   "execution_count": null,
   "metadata": {
    "collapsed": true
   },
   "outputs": [],
   "source": [
    "#Write code that will allow you to show parallel coordinates using your datase"
   ]
  },
  {
   "cell_type": "markdown",
   "metadata": {},
   "source": [
    "---\n",
    "*css tweaks in this cell*\n",
    "<style>\n",
    "div.text_cell_render {\n",
    "    line-height: 150%;\n",
    "    font-size: 110%;\n",
    "    width: 800px;\n",
    "    margin-left:50px;\n",
    "    margin-right:auto;\n",
    "    }\n",
    "</style>"
   ]
  }
 ],
 "metadata": {
  "kernelspec": {
   "display_name": "Python 3",
   "language": "python",
   "name": "python3"
  },
  "language_info": {
   "codemirror_mode": {
    "name": "ipython",
    "version": 3
   },
   "file_extension": ".py",
   "mimetype": "text/x-python",
   "name": "python",
   "nbconvert_exporter": "python",
   "pygments_lexer": "ipython3",
   "version": "3.6.1"
  }
 },
 "nbformat": 4,
 "nbformat_minor": 1
}
